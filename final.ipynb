{
 "cells": [
  {
   "cell_type": "code",
   "execution_count": null,
   "metadata": {},
   "outputs": [],
   "source": [
    "from tensorflow.keras import Sequential\n",
    "from tensorflow.keras.layers import Dense,Flatten,Reshape\n",
    "import os\n",
    "import numpy as np\n",
    "from pandas import DataFrame as df\n",
    "import pandas as pd\n",
    "from sklearn.datasets import fetch_openml\n",
    "from tqdm import tqdm\n",
    "from sklearn.decomposition import PCA\n",
    "from mpl_toolkits.mplot3d import Axes3D\n",
    "from numpy.linalg import svd\n",
    "\n",
    "pca = PCA()\n",
    "\n",
    "\n",
    "x_train, y_train = fetch_openml('mnist_784', version=1, return_X_y=True)\n",
    "x_train = x_train.reshape((70000,784))/255.0"
   ]
  },
  {
   "cell_type": "code",
   "execution_count": null,
   "metadata": {},
   "outputs": [],
   "source": [
    "model = Sequential()\n",
    "model.add(Flatten(input_shape=x_train[0].shape))\n",
    "#model.add(Dense(784,activation='sigmoid',use_bias=False))\n",
    "#model.add(Dense(16,activation='sigmoid',use_bias=False))\n",
    "model.add(Dense(2,activation='sigmoid',use_bias=False))\n",
    "#model.add(Dense(16,activation='sigmoid',use_bias=False))\n",
    "model.add(Dense(784,activation='selu',use_bias=False))\n",
    "#model.add(Reshape((28,28)))"
   ]
  },
  {
   "cell_type": "code",
   "execution_count": null,
   "metadata": {},
   "outputs": [],
   "source": [
    "model.compile(loss='mae',optimizer='sgd')\n"
   ]
  },
  {
   "cell_type": "code",
   "execution_count": null,
   "metadata": {},
   "outputs": [],
   "source": [
    "model.fit(x_train,x_train,epochs=10,batch_size=1000)"
   ]
  },
  {
   "cell_type": "code",
   "execution_count": null,
   "metadata": {},
   "outputs": [],
   "source": [
    "weights = model.get_weights()"
   ]
  },
  {
   "cell_type": "code",
   "execution_count": null,
   "metadata": {},
   "outputs": [],
   "source": [
    "ae_fin = np.dot(x_train,weights[0])"
   ]
  },
  {
   "cell_type": "code",
   "execution_count": null,
   "metadata": {},
   "outputs": [],
   "source": [
    "pca_fin = pca.fit_transform(x_train)"
   ]
  },
  {
   "cell_type": "code",
   "execution_count": null,
   "metadata": {},
   "outputs": [],
   "source": [
    "master = df(pca_fin[:,:3])\n",
    "master.columns=['x','y','z']\n",
    "master = master.join(pd.Series(y_train,name='labels'))\n",
    "fig = plt.figure(figsize=(10,10))\n",
    "for k in [221,222,223,224]:\n",
    "    if k==224:\n",
    "        ax = fig.add_subplot(k,projection='3d')\n",
    "    else:\n",
    "        ax = fig.add_subplot(k)\n",
    "    for l in np.sort(master.labels.unique()):\n",
    "        temp = master[master['labels']==l]\n",
    "        x= temp['x'].values\n",
    "        y = temp['y'].values\n",
    "        z = temp['z'].values\n",
    "        if k == 221:\n",
    "            \n",
    "            ax.scatter(x,y,s = .03,label = int(l))\n",
    "            ax.set_xlabel('First autoencoded dimension')\n",
    "            ax.set_ylabel('Second autoencoded dimension')\n",
    "        elif k==222:\n",
    "            ax.scatter(x,z,s=.03,label=int(l))\n",
    "            ax.set_xlabel('First autoencoded dimension')\n",
    "            ax.set_ylabel('Third autoencoded dimension')\n",
    "        elif k == 223:\n",
    "            ax.scatter(y,z,s=.03,label=int(l))\n",
    "            ax.set_xlabel('Second autoencoded dimension')\n",
    "            ax.set_ylabel('Third autoencoded dimension')\n",
    "        else:\n",
    "            ax.scatter(x,y,z,s = .03,label=int(l))\n",
    "            ax.set_xlabel('First autoencoded dimension')\n",
    "            ax.set_ylabel('Second autoencoded dimension')\n",
    "            ax.set_zlabel('Third autoencoded dimension')\n",
    "    \n",
    "    #plt.xlabel('First Autoencoded Dimension')\n",
    "    \n",
    "plt.legend(markerscale=50,loc=(1.1,.8))\n",
    "#plt.set_size(20,20)\n",
    "plt.savefig('sklearn_3_pca.png',dpi = 1000)"
   ]
  },
  {
   "cell_type": "code",
   "execution_count": null,
   "metadata": {},
   "outputs": [],
   "source": [
    "master = df(ae_fin)\n",
    "master.columns=['x','y']\n",
    "master = master.join(pd.Series(y_train,name='labels'))\n",
    "fig = plt.figure(figsize=(2.5,2.5))\n",
    "ax = fig.add_subplot(111)\n",
    "for l in np.sort(master.labels.unique()):\n",
    "    temp = master[master['labels']==l]\n",
    "    x= temp['x'].values\n",
    "    y = temp['y'].values\n",
    "    ax.scatter(x,y,s=.01,label=int(l))\n",
    "    ax.set_xlabel('First autoencoded dimension')\n",
    "    ax.set_ylabel('Second autoencoded dimension')\n",
    "        \n",
    "plt.legend(markerscale=50,loc=(1.1,-.1))\n",
    "#plt.set_size(20,20)\n",
    "#plt.savefig('sklearn_2_pca.png',dpi = 1000)"
   ]
  },
  {
   "cell_type": "code",
   "execution_count": null,
   "metadata": {},
   "outputs": [],
   "source": []
  },
  {
   "cell_type": "code",
   "execution_count": null,
   "metadata": {},
   "outputs": [],
   "source": [
    "U,E,T=np.linalg.svd(out,full_matrices = False)"
   ]
  },
  {
   "cell_type": "code",
   "execution_count": null,
   "metadata": {},
   "outputs": [],
   "source": [
    "E.shape"
   ]
  },
  {
   "cell_type": "code",
   "execution_count": null,
   "metadata": {},
   "outputs": [],
   "source": []
  },
  {
   "cell_type": "code",
   "execution_count": null,
   "metadata": {},
   "outputs": [],
   "source": []
  },
  {
   "cell_type": "code",
   "execution_count": null,
   "metadata": {},
   "outputs": [],
   "source": []
  },
  {
   "cell_type": "code",
   "execution_count": null,
   "metadata": {},
   "outputs": [],
   "source": [
    "def relu(z):\n",
    "    return(z if z>0 else 0)\n",
    "relu = np.vectorize(relu)\n",
    "\n",
    "def relu_der(z):\n",
    "    return(1 if z>0 else 0.01)\n",
    "relu_der = np.vectorize(relu_der)\n",
    "\n",
    "\n",
    "def simple_logistic(z):\n",
    "    return(1/(1+np.e**(-z)))\n",
    "\n",
    "log = np.vectorize(simple_logistic)\n",
    "\n",
    "def log_der(z):\n",
    "    return(z*(1-z))\n",
    "\n",
    "log_der = np.vectorize(log_der)"
   ]
  },
  {
   "cell_type": "code",
   "execution_count": null,
   "metadata": {},
   "outputs": [],
   "source": [
    "def fb4(flat,w1,w2,w3,w4,lr):\n",
    "    l1 = log(np.dot(flat,w1))\n",
    "    l2 = log(np.dot(l1,w2))\n",
    "    l3 = log(np.dot(l2,w3))\n",
    "    l4 = log(np.dot(l3,w4))\n",
    "    \n",
    "    l4_err = flat-l4\n",
    "    delt4 = l4_err*log_der(l4)\n",
    "    w4_grads = l3.T.dot(delt4)\n",
    "\n",
    "    l3_err = delt4.dot(w4.T)\n",
    "    delt3 = l3_err*log_der(l3)\n",
    "    w3_grads = l2.T.dot(delt3)\n",
    "\n",
    "    l2_err = delt3.dot(w3.T)\n",
    "    delt2 = l2_err*log_der(l2)\n",
    "    w2_grads = l1.T.dot(delt2)\n",
    "\n",
    "    l1_err = delt2.dot(w2.T)\n",
    "    delt1 = l1_err*log_der(l1)\n",
    "    w1_grads = flat.T.dot(delt1)\n",
    "\n",
    "    w4 = w4+lr*w4_grads\n",
    "    w3 = w3+lr*w3_grads\n",
    "    w2 = w2+lr*w2_grads\n",
    "    w1 = w1+lr*w1_grads\n",
    "    \n",
    "    print(np.mean(np.abs(l4_err)))\n",
    "    return(w1,w2,w3,w4)"
   ]
  },
  {
   "cell_type": "code",
   "execution_count": null,
   "metadata": {},
   "outputs": [],
   "source": [
    "def fb2(flat,w1,w2,lr):\n",
    "    l1 = log(np.dot(flat,w1))\n",
    "    l2 = log(np.dot(l1,w2))\n",
    "\n",
    "    l2_err = flat-l2\n",
    "    delt2 = l2_err*log_der(l2)\n",
    "    w2_grads = l1.T.dot(delt2)\n",
    "\n",
    "    l1_err = delt2.dot(w2.T)\n",
    "    delt1 = l1_err*log_der(l1)\n",
    "    w1_grads = flat.T.dot(delt1)\n",
    "\n",
    "    w2 = w2+lr*w2_grads\n",
    "    w1 = w1+lr*w1_grads\n",
    "    \n",
    "    print(np.mean(np.abs(l2_err)))\n",
    "    return(w1,w2)"
   ]
  },
  {
   "cell_type": "code",
   "execution_count": null,
   "metadata": {
    "scrolled": true
   },
   "outputs": [],
   "source": [
    "pcs = 2\n",
    "w1 = np.random.random((784,pcs))\n",
    "w2 = np.random.random((pcs,784))\n",
    "\n",
    "batch_size=1000\n",
    "\n",
    "lr = .01\n",
    "flat = x_train.copy()\n",
    "for k in tqdm(range(10)):\n",
    "    np.random.shuffle(flat)\n",
    "    for b in range(int(len(flat)/batch_size)):\n",
    "        temp_flat = flat[int(b*batch_size):int((b+1)*batch_size),:]\n",
    "        w1,w2 = fb2(temp_flat,w1,w2,lr)\n",
    "#np.save('weights_2_'+str(pcs)+'.npy',np.array([w1,w2]))"
   ]
  },
  {
   "cell_type": "code",
   "execution_count": null,
   "metadata": {},
   "outputs": [],
   "source": [
    "out = log(x_train.dot(w1))"
   ]
  },
  {
   "cell_type": "code",
   "execution_count": null,
   "metadata": {},
   "outputs": [],
   "source": [
    "from matplotlib import pyplot as plt"
   ]
  },
  {
   "cell_type": "code",
   "execution_count": null,
   "metadata": {},
   "outputs": [],
   "source": [
    "plt.figure()\n",
    "x,y = zip(*out)\n",
    "plt.scatter(x,y)\n",
    "plt.show()"
   ]
  },
  {
   "cell_type": "code",
   "execution_count": null,
   "metadata": {},
   "outputs": [],
   "source": [
    "weights = []\n",
    "for k in [1,2,3]:\n",
    "    weights.append(np.load('weights_pca_'+str(k)+'.npy',allow_pickle=True))"
   ]
  },
  {
   "cell_type": "code",
   "execution_count": null,
   "metadata": {},
   "outputs": [],
   "source": []
  },
  {
   "cell_type": "code",
   "execution_count": null,
   "metadata": {},
   "outputs": [],
   "source": [
    "len(weights)"
   ]
  },
  {
   "cell_type": "code",
   "execution_count": null,
   "metadata": {
    "scrolled": true
   },
   "outputs": [],
   "source": [
    "x_train"
   ]
  },
  {
   "cell_type": "code",
   "execution_count": null,
   "metadata": {},
   "outputs": [],
   "source": [
    "weights"
   ]
  },
  {
   "cell_type": "code",
   "execution_count": null,
   "metadata": {},
   "outputs": [],
   "source": [
    "x = x_train.dot(weights[0][0])\n",
    "y = x_train.dot(weights[1][0])"
   ]
  },
  {
   "cell_type": "code",
   "execution_count": null,
   "metadata": {},
   "outputs": [],
   "source": [
    "from matplotlib import pyplot as plt"
   ]
  },
  {
   "cell_type": "code",
   "execution_count": null,
   "metadata": {
    "scrolled": true
   },
   "outputs": [],
   "source": [
    "plt.figure()\n",
    "plt.scatter(x,y)\n",
    "plt.show()"
   ]
  },
  {
   "cell_type": "code",
   "execution_count": null,
   "metadata": {},
   "outputs": [],
   "source": [
    "from pandas import DataFrame as df\n",
    "import pandas as pd"
   ]
  },
  {
   "cell_type": "code",
   "execution_count": null,
   "metadata": {},
   "outputs": [],
   "source": [
    "out = [[x[k],y[k]] for k in range(len(x))]\n",
    "master = df(out)\n",
    "master.columns=['x','y']\n",
    "master = master.join(pd.Series(y_train,name='labels'))\n",
    "plt.figure()\n",
    "for l in np.sort(master.labels.unique()):\n",
    "    temp = master[master['labels']==l]\n",
    "    x,y = zip(*temp[['x','y']].values)\n",
    "    plt.scatter(x,y,s = .1,label = l)\n",
    "plt.legend(markerscale=20)"
   ]
  },
  {
   "cell_type": "code",
   "execution_count": null,
   "metadata": {},
   "outputs": [],
   "source": [
    "#for k in [1,2,3]:\n",
    "pcs = 2\n",
    "w1,w2,w3,w4 = np.load('weights_4_'+str(pcs)+'.npy',allow_pickle=True)\n",
    "out = log(flat.dot(w1).dot(w2))\n",
    "out.shape"
   ]
  },
  {
   "cell_type": "code",
   "execution_count": null,
   "metadata": {},
   "outputs": [],
   "source": [
    "master = df(out)\n",
    "master.columns=['x','y']\n",
    "master = master.join(pd.Series(y_train,name='labels'))\n",
    "plt.figure()\n",
    "for l in np.sort(master.labels.unique()):\n",
    "    temp = master[master['labels']==l]\n",
    "    x,y = zip(*temp[['x','y']].values)\n",
    "    plt.scatter(x,y,s = .1,label = l)\n",
    "#plt.xscale('log')\n",
    "#plt.yscale('log')\n",
    "plt.legend(markerscale=20)"
   ]
  },
  {
   "cell_type": "code",
   "execution_count": null,
   "metadata": {},
   "outputs": [],
   "source": [
    "lr = .001\n",
    "batch_size=1000\n",
    "new_flat = x_train.copy()\n",
    "for k in [1]:\n",
    "    w1 = np.random.random((784,k))\n",
    "    w2 = np.random.random((k,784))\n",
    "    \n",
    "    for e in tqdm(range(10)):\n",
    "        np.random.shuffle(new_flat)\n",
    "        for b in range(int(len(new_flat)/batch_size)):\n",
    "            temp_flat =  new_flat[int(b*batch_size):int((b+1)*batch_size),:]\n",
    "            w1,w2 = fb2(temp_flat,w1,w2,lr)\n",
    "    np.save('weights_pca_'+str(k)+'.npy',np.array([w1,w2]))\n",
    "    new_flat = x_train-(log(log(x_train.dot(w1)).dot(w2)))"
   ]
  },
  {
   "cell_type": "code",
   "execution_count": null,
   "metadata": {},
   "outputs": [],
   "source": [
    "pca_fin "
   ]
  },
  {
   "cell_type": "code",
   "execution_count": null,
   "metadata": {},
   "outputs": [],
   "source": [
    "x_train.shape"
   ]
  },
  {
   "cell_type": "code",
   "execution_count": null,
   "metadata": {},
   "outputs": [],
   "source": [
    "U,E,Vh = svd(x_train, full_matrices = False,compute_uv=True)"
   ]
  },
  {
   "cell_type": "code",
   "execution_count": null,
   "metadata": {},
   "outputs": [],
   "source": [
    "U[:,:2].dot(np.diag(E)[:2,:]).dot(Vh.T[:2,:])"
   ]
  },
  {
   "cell_type": "code",
   "execution_count": null,
   "metadata": {},
   "outputs": [],
   "source": [
    "x_train.dot(Vh.T)"
   ]
  },
  {
   "cell_type": "code",
   "execution_count": null,
   "metadata": {},
   "outputs": [],
   "source": [
    "pca_fin"
   ]
  },
  {
   "cell_type": "code",
   "execution_count": null,
   "metadata": {},
   "outputs": [],
   "source": [
    "U.shape"
   ]
  },
  {
   "cell_type": "code",
   "execution_count": null,
   "metadata": {},
   "outputs": [],
   "source": [
    "E.shape"
   ]
  },
  {
   "cell_type": "code",
   "execution_count": null,
   "metadata": {},
   "outputs": [],
   "source": [
    "Vh.shape"
   ]
  },
  {
   "cell_type": "code",
   "execution_count": null,
   "metadata": {
    "scrolled": true
   },
   "outputs": [],
   "source": [
    "pca_fin.round(2)"
   ]
  },
  {
   "cell_type": "code",
   "execution_count": null,
   "metadata": {},
   "outputs": [],
   "source": [
    "E_hat = np.zeros((70000,784))\n",
    "for p in range(784):\n",
    "    E_hat[p][p] = E[p]\n"
   ]
  },
  {
   "cell_type": "code",
   "execution_count": null,
   "metadata": {},
   "outputs": [],
   "source": [
    "E_hat"
   ]
  },
  {
   "cell_type": "code",
   "execution_count": null,
   "metadata": {},
   "outputs": [],
   "source": [
    "np.dot(x_train,E_hat.T)"
   ]
  },
  {
   "cell_type": "code",
   "execution_count": null,
   "metadata": {},
   "outputs": [],
   "source": [
    "pca_fin.round(2)"
   ]
  },
  {
   "cell_type": "code",
   "execution_count": null,
   "metadata": {},
   "outputs": [],
   "source": []
  }
 ],
 "metadata": {
  "kernelspec": {
   "display_name": "Python 3",
   "language": "python",
   "name": "python3"
  },
  "language_info": {
   "codemirror_mode": {
    "name": "ipython",
    "version": 3
   },
   "file_extension": ".py",
   "mimetype": "text/x-python",
   "name": "python",
   "nbconvert_exporter": "python",
   "pygments_lexer": "ipython3",
   "version": "3.7.5"
  }
 },
 "nbformat": 4,
 "nbformat_minor": 2
}
